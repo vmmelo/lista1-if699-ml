{
 "cells": [
  {
   "cell_type": "markdown",
   "id": "signal-shooting",
   "metadata": {},
   "source": [
    "Implemente os classificadores k-NN, com e sem peso, e o k-NN adaptativo; use distância Euclidiana. Avalie os três classificadores em duas bases de dados do repositório Promise (ver link abaixo). Essas bases devem conter apenas atributos numéricos. Varie o parâmetro k = {1,2,3,5,7,9,11,13,15} e construa um gráfico que mostre o comportamento da taxa de acerto à medida que o valor de k muda para os três classificadores. Analise os resultados em relação ao tempo de processamento e à taxa de acerto, e construa uma argumentação que indique as melhores escolhas para as bases de dados avaliadas. (dica: observe o valor de k, o acerto/erro por classe, o tempo de treinamento e o tempo de teste).\n",
    "\n",
    "Promise repository: http://promise.site.uottawa.ca/SERepository/datasets-page.html. Na avaliação dos algoritmos, use o k-fold cross-validation. O relatório deve conter informações de forma que seja possível replicar os experimentos (metodologia dos experimentos), além dos resultados e suas análises."
   ]
  },
  {
   "cell_type": "code",
   "execution_count": 3,
   "id": "eligible-dakota",
   "metadata": {},
   "outputs": [
    {
     "data": {
      "text/plain": "    loc  v(g)  ev(g)  iv(g)      n       v     l      d      i         e  ...  \\\n0   1.1   1.4    1.4    1.4    1.3    1.30  1.30   1.30   1.30      1.30  ...   \n1   1.0   1.0    1.0    1.0    1.0    1.00  1.00   1.00   1.00      1.00  ...   \n2  83.0  11.0    1.0   11.0  171.0  927.89  0.04  23.04  40.27  21378.61  ...   \n3  46.0   8.0    6.0    8.0  141.0  769.78  0.07  14.86  51.81  11436.73  ...   \n4  25.0   3.0    1.0    3.0   58.0  254.75  0.11   9.35  27.25   2381.95  ...   \n\n   lOCode  lOComment  lOBlank  lOCodeAndComment  uniq_Op  uniq_Opnd  total_Op  \\\n0       2          2        2                 2      1.2        1.2       1.2   \n1       1          1        1                 1      1.0        1.0       1.0   \n2      65         10        6                 0     18.0       25.0     107.0   \n3      37          2        5                 0     16.0       28.0      89.0   \n4      21          0        2                 0     11.0       10.0      41.0   \n\n   total_Opnd  branchCount  problems  \n0         1.2          1.4     False  \n1         1.0          1.0      True  \n2        64.0         21.0      True  \n3        52.0         15.0      True  \n4        17.0          5.0      True  \n\n[5 rows x 22 columns]",
      "text/html": "<div>\n<style scoped>\n    .dataframe tbody tr th:only-of-type {\n        vertical-align: middle;\n    }\n\n    .dataframe tbody tr th {\n        vertical-align: top;\n    }\n\n    .dataframe thead th {\n        text-align: right;\n    }\n</style>\n<table border=\"1\" class=\"dataframe\">\n  <thead>\n    <tr style=\"text-align: right;\">\n      <th></th>\n      <th>loc</th>\n      <th>v(g)</th>\n      <th>ev(g)</th>\n      <th>iv(g)</th>\n      <th>n</th>\n      <th>v</th>\n      <th>l</th>\n      <th>d</th>\n      <th>i</th>\n      <th>e</th>\n      <th>...</th>\n      <th>lOCode</th>\n      <th>lOComment</th>\n      <th>lOBlank</th>\n      <th>lOCodeAndComment</th>\n      <th>uniq_Op</th>\n      <th>uniq_Opnd</th>\n      <th>total_Op</th>\n      <th>total_Opnd</th>\n      <th>branchCount</th>\n      <th>problems</th>\n    </tr>\n  </thead>\n  <tbody>\n    <tr>\n      <th>0</th>\n      <td>1.1</td>\n      <td>1.4</td>\n      <td>1.4</td>\n      <td>1.4</td>\n      <td>1.3</td>\n      <td>1.30</td>\n      <td>1.30</td>\n      <td>1.30</td>\n      <td>1.30</td>\n      <td>1.30</td>\n      <td>...</td>\n      <td>2</td>\n      <td>2</td>\n      <td>2</td>\n      <td>2</td>\n      <td>1.2</td>\n      <td>1.2</td>\n      <td>1.2</td>\n      <td>1.2</td>\n      <td>1.4</td>\n      <td>False</td>\n    </tr>\n    <tr>\n      <th>1</th>\n      <td>1.0</td>\n      <td>1.0</td>\n      <td>1.0</td>\n      <td>1.0</td>\n      <td>1.0</td>\n      <td>1.00</td>\n      <td>1.00</td>\n      <td>1.00</td>\n      <td>1.00</td>\n      <td>1.00</td>\n      <td>...</td>\n      <td>1</td>\n      <td>1</td>\n      <td>1</td>\n      <td>1</td>\n      <td>1.0</td>\n      <td>1.0</td>\n      <td>1.0</td>\n      <td>1.0</td>\n      <td>1.0</td>\n      <td>True</td>\n    </tr>\n    <tr>\n      <th>2</th>\n      <td>83.0</td>\n      <td>11.0</td>\n      <td>1.0</td>\n      <td>11.0</td>\n      <td>171.0</td>\n      <td>927.89</td>\n      <td>0.04</td>\n      <td>23.04</td>\n      <td>40.27</td>\n      <td>21378.61</td>\n      <td>...</td>\n      <td>65</td>\n      <td>10</td>\n      <td>6</td>\n      <td>0</td>\n      <td>18.0</td>\n      <td>25.0</td>\n      <td>107.0</td>\n      <td>64.0</td>\n      <td>21.0</td>\n      <td>True</td>\n    </tr>\n    <tr>\n      <th>3</th>\n      <td>46.0</td>\n      <td>8.0</td>\n      <td>6.0</td>\n      <td>8.0</td>\n      <td>141.0</td>\n      <td>769.78</td>\n      <td>0.07</td>\n      <td>14.86</td>\n      <td>51.81</td>\n      <td>11436.73</td>\n      <td>...</td>\n      <td>37</td>\n      <td>2</td>\n      <td>5</td>\n      <td>0</td>\n      <td>16.0</td>\n      <td>28.0</td>\n      <td>89.0</td>\n      <td>52.0</td>\n      <td>15.0</td>\n      <td>True</td>\n    </tr>\n    <tr>\n      <th>4</th>\n      <td>25.0</td>\n      <td>3.0</td>\n      <td>1.0</td>\n      <td>3.0</td>\n      <td>58.0</td>\n      <td>254.75</td>\n      <td>0.11</td>\n      <td>9.35</td>\n      <td>27.25</td>\n      <td>2381.95</td>\n      <td>...</td>\n      <td>21</td>\n      <td>0</td>\n      <td>2</td>\n      <td>0</td>\n      <td>11.0</td>\n      <td>10.0</td>\n      <td>41.0</td>\n      <td>17.0</td>\n      <td>5.0</td>\n      <td>True</td>\n    </tr>\n  </tbody>\n</table>\n<p>5 rows × 22 columns</p>\n</div>"
     },
     "execution_count": 3,
     "metadata": {},
     "output_type": "execute_result"
    }
   ],
   "source": [
    "import pandas as pd\n",
    "import numpy as np\n",
    "kc1Dataset = pd.read_csv('datasets/kc1.csv')\n",
    "kc1Dataset.head()"
   ]
  },
  {
   "cell_type": "code",
   "execution_count": 4,
   "outputs": [
    {
     "data": {
      "text/plain": "    loc  v(g)  ev(g)  iv(g)      n       v     l      d      i         e  ...  \\\n0   1.1   1.4    1.4    1.4    1.3    1.30  1.30   1.30   1.30      1.30  ...   \n1   1.0   1.0    1.0    1.0    1.0    1.00  1.00   1.00   1.00      1.00  ...   \n2  83.0  11.0    1.0   11.0  171.0  927.89  0.04  23.04  40.27  21378.61  ...   \n3  46.0   8.0    6.0    8.0  141.0  769.78  0.07  14.86  51.81  11436.73  ...   \n4  25.0   3.0    1.0    3.0   58.0  254.75  0.11   9.35  27.25   2381.95  ...   \n\n   lOCode  lOComment  lOBlank  lOCodeAndComment  uniq_Op  uniq_Opnd  total_Op  \\\n0       2          2        2                 2      1.2        1.2       1.2   \n1       1          1        1                 1      1.0        1.0       1.0   \n2      65         10        6                 0     18.0       25.0     107.0   \n3      37          2        5                 0     16.0       28.0      89.0   \n4      21          0        2                 0     11.0       10.0      41.0   \n\n   total_Opnd  branchCount  problems  \n0         1.2          1.4         0  \n1         1.0          1.0         1  \n2        64.0         21.0         1  \n3        52.0         15.0         1  \n4        17.0          5.0         1  \n\n[5 rows x 22 columns]",
      "text/html": "<div>\n<style scoped>\n    .dataframe tbody tr th:only-of-type {\n        vertical-align: middle;\n    }\n\n    .dataframe tbody tr th {\n        vertical-align: top;\n    }\n\n    .dataframe thead th {\n        text-align: right;\n    }\n</style>\n<table border=\"1\" class=\"dataframe\">\n  <thead>\n    <tr style=\"text-align: right;\">\n      <th></th>\n      <th>loc</th>\n      <th>v(g)</th>\n      <th>ev(g)</th>\n      <th>iv(g)</th>\n      <th>n</th>\n      <th>v</th>\n      <th>l</th>\n      <th>d</th>\n      <th>i</th>\n      <th>e</th>\n      <th>...</th>\n      <th>lOCode</th>\n      <th>lOComment</th>\n      <th>lOBlank</th>\n      <th>lOCodeAndComment</th>\n      <th>uniq_Op</th>\n      <th>uniq_Opnd</th>\n      <th>total_Op</th>\n      <th>total_Opnd</th>\n      <th>branchCount</th>\n      <th>problems</th>\n    </tr>\n  </thead>\n  <tbody>\n    <tr>\n      <th>0</th>\n      <td>1.1</td>\n      <td>1.4</td>\n      <td>1.4</td>\n      <td>1.4</td>\n      <td>1.3</td>\n      <td>1.30</td>\n      <td>1.30</td>\n      <td>1.30</td>\n      <td>1.30</td>\n      <td>1.30</td>\n      <td>...</td>\n      <td>2</td>\n      <td>2</td>\n      <td>2</td>\n      <td>2</td>\n      <td>1.2</td>\n      <td>1.2</td>\n      <td>1.2</td>\n      <td>1.2</td>\n      <td>1.4</td>\n      <td>0</td>\n    </tr>\n    <tr>\n      <th>1</th>\n      <td>1.0</td>\n      <td>1.0</td>\n      <td>1.0</td>\n      <td>1.0</td>\n      <td>1.0</td>\n      <td>1.00</td>\n      <td>1.00</td>\n      <td>1.00</td>\n      <td>1.00</td>\n      <td>1.00</td>\n      <td>...</td>\n      <td>1</td>\n      <td>1</td>\n      <td>1</td>\n      <td>1</td>\n      <td>1.0</td>\n      <td>1.0</td>\n      <td>1.0</td>\n      <td>1.0</td>\n      <td>1.0</td>\n      <td>1</td>\n    </tr>\n    <tr>\n      <th>2</th>\n      <td>83.0</td>\n      <td>11.0</td>\n      <td>1.0</td>\n      <td>11.0</td>\n      <td>171.0</td>\n      <td>927.89</td>\n      <td>0.04</td>\n      <td>23.04</td>\n      <td>40.27</td>\n      <td>21378.61</td>\n      <td>...</td>\n      <td>65</td>\n      <td>10</td>\n      <td>6</td>\n      <td>0</td>\n      <td>18.0</td>\n      <td>25.0</td>\n      <td>107.0</td>\n      <td>64.0</td>\n      <td>21.0</td>\n      <td>1</td>\n    </tr>\n    <tr>\n      <th>3</th>\n      <td>46.0</td>\n      <td>8.0</td>\n      <td>6.0</td>\n      <td>8.0</td>\n      <td>141.0</td>\n      <td>769.78</td>\n      <td>0.07</td>\n      <td>14.86</td>\n      <td>51.81</td>\n      <td>11436.73</td>\n      <td>...</td>\n      <td>37</td>\n      <td>2</td>\n      <td>5</td>\n      <td>0</td>\n      <td>16.0</td>\n      <td>28.0</td>\n      <td>89.0</td>\n      <td>52.0</td>\n      <td>15.0</td>\n      <td>1</td>\n    </tr>\n    <tr>\n      <th>4</th>\n      <td>25.0</td>\n      <td>3.0</td>\n      <td>1.0</td>\n      <td>3.0</td>\n      <td>58.0</td>\n      <td>254.75</td>\n      <td>0.11</td>\n      <td>9.35</td>\n      <td>27.25</td>\n      <td>2381.95</td>\n      <td>...</td>\n      <td>21</td>\n      <td>0</td>\n      <td>2</td>\n      <td>0</td>\n      <td>11.0</td>\n      <td>10.0</td>\n      <td>41.0</td>\n      <td>17.0</td>\n      <td>5.0</td>\n      <td>1</td>\n    </tr>\n  </tbody>\n</table>\n<p>5 rows × 22 columns</p>\n</div>"
     },
     "execution_count": 4,
     "metadata": {},
     "output_type": "execute_result"
    }
   ],
   "source": [
    "# tratando os dados\n",
    "kc1Dataset['problems'] = kc1Dataset['problems'].astype(int)\n",
    "kc1Dataset.head()"
   ],
   "metadata": {
    "collapsed": false,
    "pycharm": {
     "name": "#%%\n"
    }
   }
  },
  {
   "cell_type": "code",
   "execution_count": 5,
   "outputs": [
    {
     "name": "stdout",
     "output_type": "stream",
     "text": [
      "Treinaremos com 1581 elementos e testaremos com 528 elementos\n"
     ]
    }
   ],
   "source": [
    "from sklearn.neighbors import KNeighborsClassifier\n",
    "from sklearn.model_selection import train_test_split\n",
    "from sklearn.metrics import accuracy_score\n",
    "import time\n",
    "\n",
    "variacoes_k = [1,2,3,5,7,9,11,13,15]\n",
    "SEED = 5\n",
    "np.random.seed(SEED)\n",
    "x = kc1Dataset.loc[:, kc1Dataset.columns != 'problems']\n",
    "y = kc1Dataset['problems']\n",
    "treino_x, teste_x, treino_y, teste_y = train_test_split(x, y, test_size = 0.25,\n",
    "                                                         stratify = y)\n",
    "print(\"Treinaremos com %d elementos e testaremos com %d elementos\" % (len(treino_x), len(teste_x)))"
   ],
   "metadata": {
    "collapsed": false,
    "pycharm": {
     "name": "#%%\n"
    }
   }
  },
  {
   "cell_type": "code",
   "execution_count": 18,
   "outputs": [
    {
     "name": "stdout",
     "output_type": "stream",
     "text": [
      "A acurácia com k=1 foi 81.63%\n",
      "Tempo de treino: 0.0025 s\n",
      "Tempo de teste: 0.02352 s\n",
      "A acurácia com k=2 foi 82.95%\n",
      "Tempo de treino: 0.001501 s\n",
      "Tempo de teste: 0.01947 s\n",
      "A acurácia com k=3 foi 80.68%\n",
      "Tempo de treino: 0.001502 s\n",
      "Tempo de teste: 0.02 s\n",
      "A acurácia com k=5 foi 83.90%\n",
      "Tempo de treino: 0.00147 s\n",
      "Tempo de teste: 0.02352 s\n",
      "A acurácia com k=7 foi 84.09%\n",
      "Tempo de treino: 0.001 s\n",
      "Tempo de teste: 0.02298 s\n",
      "A acurácia com k=9 foi 84.85%\n",
      "Tempo de treino: 0.001501 s\n",
      "Tempo de teste: 0.02303 s\n",
      "A acurácia com k=11 foi 85.23%\n",
      "Tempo de treino: 0.001513 s\n",
      "Tempo de teste: 0.02296 s\n",
      "A acurácia com k=13 foi 85.80%\n",
      "Tempo de treino: 0.002024 s\n",
      "Tempo de teste: 0.02397 s\n",
      "A acurácia com k=15 foi 85.61%\n",
      "Tempo de treino: 0.001531 s\n",
      "Tempo de teste: 0.02497 s\n"
     ]
    }
   ],
   "source": [
    "for k in variacoes_k:\n",
    "    neigh = KNeighborsClassifier(n_neighbors=k, weights='uniform', metric='euclidean')\n",
    "\n",
    "    inicioTreino = time.time()\n",
    "    neigh.fit(treino_x, treino_y)\n",
    "    fimTreino = time.time()\n",
    "    tempoTreino = fimTreino - inicioTreino\n",
    "\n",
    "    inicioTeste = time.time()\n",
    "    previsoes = neigh.predict(teste_x)\n",
    "    fimTeste = time.time()\n",
    "    tempoTeste = fimTeste - inicioTeste\n",
    "\n",
    "    #calculando a acuracia\n",
    "    acuracia = accuracy_score(teste_y, previsoes) * 100\n",
    "    print(f\"A acurácia com k={k} foi %.2f%%\" % acuracia)\n",
    "    print(\"Tempo de treino: %.4g s\" % tempoTreino)\n",
    "    print(\"Tempo de teste: %.4g s\" % tempoTeste)\n"
   ],
   "metadata": {
    "collapsed": false,
    "pycharm": {
     "name": "#%%\n"
    }
   }
  },
  {
   "cell_type": "code",
   "execution_count": 7,
   "outputs": [
    {
     "name": "stdout",
     "output_type": "stream",
     "text": [
      "A acurácia com k=1 foi 81.63%\n",
      "A acurácia com k=2 foi 81.63%\n",
      "A acurácia com k=3 foi 81.44%\n",
      "A acurácia com k=5 foi 82.95%\n",
      "A acurácia com k=7 foi 83.71%\n",
      "A acurácia com k=9 foi 83.52%\n",
      "A acurácia com k=11 foi 84.85%\n",
      "A acurácia com k=13 foi 85.23%\n",
      "A acurácia com k=15 foi 84.85%\n"
     ]
    }
   ],
   "source": [
    "for k in variacoes_k:\n",
    "    neigh = KNeighborsClassifier(n_neighbors=k, weights='distance', metric='euclidean')\n",
    "    neigh.fit(treino_x, treino_y)\n",
    "    previsoes = neigh.predict(teste_x)\n",
    "\n",
    "    #calculando a acuracia\n",
    "    acuracia = accuracy_score(teste_y, previsoes) * 100\n",
    "    print(f\"A acurácia com k={k} foi %.2f%%\" % acuracia)"
   ],
   "metadata": {
    "collapsed": false,
    "pycharm": {
     "name": "#%%\n"
    }
   }
  }
 ],
 "metadata": {
  "kernelspec": {
   "display_name": "Python 3",
   "language": "python",
   "name": "python3"
  },
  "language_info": {
   "codemirror_mode": {
    "name": "ipython",
    "version": 3
   },
   "file_extension": ".py",
   "mimetype": "text/x-python",
   "name": "python",
   "nbconvert_exporter": "python",
   "pygments_lexer": "ipython3",
   "version": "3.8.6"
  }
 },
 "nbformat": 4,
 "nbformat_minor": 5
}