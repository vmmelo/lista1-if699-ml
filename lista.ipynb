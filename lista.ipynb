{
 "cells": [
  {
   "cell_type": "markdown",
   "id": "signal-shooting",
   "metadata": {},
   "source": [
    "Implemente os classificadores k-NN, com e sem peso, e o k-NN adaptativo; use distância Euclidiana. Avalie os três classificadores em duas bases de dados do repositório Promise (ver link abaixo). Essas bases devem conter apenas atributos numéricos. Varie o parâmetro k = {1,2,3,5,7,9,11,13,15} e construa um gráfico que mostre o comportamento da taxa de acerto à medida que o valor de k muda para os três classificadores. Analise os resultados em relação ao tempo de processamento e à taxa de acerto, e construa uma argumentação que indique as melhores escolhas para as bases de dados avaliadas. (dica: observe o valor de k, o acerto/erro por classe, o tempo de treinamento e o tempo de teste).\n",
    "\n",
    "Promise repository: http://promise.site.uottawa.ca/SERepository/datasets-page.html. Na avaliação dos algoritmos, use o k-fold cross-validation. O relatório deve conter informações de forma que seja possível replicar os experimentos (metodologia dos experimentos), além dos resultados e suas análises."
   ]
  },
  {
   "cell_type": "markdown",
   "source": [
    "# Dataset **KC1/Software defect prediction**\n",
    "\n",
    "Title/Topic: KC1/Software defect prediction\n",
    "\n",
    "Donor: Tim Menzies (tim@barmag.net)\n",
    "\n",
    "Date: December 2, 2004\n",
    "\n",
    "Sources:\n",
    "\n",
    "Creators:\n",
    "NASA, then the NASA Metrics Data Program,\n",
    "http://mdp.ivv.nasa.gov."
   ],
   "metadata": {
    "collapsed": false,
    "pycharm": {
     "name": "#%% md\n"
    }
   }
  },
  {
   "cell_type": "code",
   "execution_count": 10,
   "id": "eligible-dakota",
   "metadata": {},
   "outputs": [
    {
     "data": {
      "text/plain": "    loc  v(g)  ev(g)  iv(g)      n       v     l      d      i         e  ...  \\\n0   1.1   1.4    1.4    1.4    1.3    1.30  1.30   1.30   1.30      1.30  ...   \n1   1.0   1.0    1.0    1.0    1.0    1.00  1.00   1.00   1.00      1.00  ...   \n2  83.0  11.0    1.0   11.0  171.0  927.89  0.04  23.04  40.27  21378.61  ...   \n3  46.0   8.0    6.0    8.0  141.0  769.78  0.07  14.86  51.81  11436.73  ...   \n4  25.0   3.0    1.0    3.0   58.0  254.75  0.11   9.35  27.25   2381.95  ...   \n\n   lOCode  lOComment  lOBlank  lOCodeAndComment  uniq_Op  uniq_Opnd  total_Op  \\\n0       2          2        2                 2      1.2        1.2       1.2   \n1       1          1        1                 1      1.0        1.0       1.0   \n2      65         10        6                 0     18.0       25.0     107.0   \n3      37          2        5                 0     16.0       28.0      89.0   \n4      21          0        2                 0     11.0       10.0      41.0   \n\n   total_Opnd  branchCount  problems  \n0         1.2          1.4     False  \n1         1.0          1.0      True  \n2        64.0         21.0      True  \n3        52.0         15.0      True  \n4        17.0          5.0      True  \n\n[5 rows x 22 columns]",
      "text/html": "<div>\n<style scoped>\n    .dataframe tbody tr th:only-of-type {\n        vertical-align: middle;\n    }\n\n    .dataframe tbody tr th {\n        vertical-align: top;\n    }\n\n    .dataframe thead th {\n        text-align: right;\n    }\n</style>\n<table border=\"1\" class=\"dataframe\">\n  <thead>\n    <tr style=\"text-align: right;\">\n      <th></th>\n      <th>loc</th>\n      <th>v(g)</th>\n      <th>ev(g)</th>\n      <th>iv(g)</th>\n      <th>n</th>\n      <th>v</th>\n      <th>l</th>\n      <th>d</th>\n      <th>i</th>\n      <th>e</th>\n      <th>...</th>\n      <th>lOCode</th>\n      <th>lOComment</th>\n      <th>lOBlank</th>\n      <th>lOCodeAndComment</th>\n      <th>uniq_Op</th>\n      <th>uniq_Opnd</th>\n      <th>total_Op</th>\n      <th>total_Opnd</th>\n      <th>branchCount</th>\n      <th>problems</th>\n    </tr>\n  </thead>\n  <tbody>\n    <tr>\n      <th>0</th>\n      <td>1.1</td>\n      <td>1.4</td>\n      <td>1.4</td>\n      <td>1.4</td>\n      <td>1.3</td>\n      <td>1.30</td>\n      <td>1.30</td>\n      <td>1.30</td>\n      <td>1.30</td>\n      <td>1.30</td>\n      <td>...</td>\n      <td>2</td>\n      <td>2</td>\n      <td>2</td>\n      <td>2</td>\n      <td>1.2</td>\n      <td>1.2</td>\n      <td>1.2</td>\n      <td>1.2</td>\n      <td>1.4</td>\n      <td>False</td>\n    </tr>\n    <tr>\n      <th>1</th>\n      <td>1.0</td>\n      <td>1.0</td>\n      <td>1.0</td>\n      <td>1.0</td>\n      <td>1.0</td>\n      <td>1.00</td>\n      <td>1.00</td>\n      <td>1.00</td>\n      <td>1.00</td>\n      <td>1.00</td>\n      <td>...</td>\n      <td>1</td>\n      <td>1</td>\n      <td>1</td>\n      <td>1</td>\n      <td>1.0</td>\n      <td>1.0</td>\n      <td>1.0</td>\n      <td>1.0</td>\n      <td>1.0</td>\n      <td>True</td>\n    </tr>\n    <tr>\n      <th>2</th>\n      <td>83.0</td>\n      <td>11.0</td>\n      <td>1.0</td>\n      <td>11.0</td>\n      <td>171.0</td>\n      <td>927.89</td>\n      <td>0.04</td>\n      <td>23.04</td>\n      <td>40.27</td>\n      <td>21378.61</td>\n      <td>...</td>\n      <td>65</td>\n      <td>10</td>\n      <td>6</td>\n      <td>0</td>\n      <td>18.0</td>\n      <td>25.0</td>\n      <td>107.0</td>\n      <td>64.0</td>\n      <td>21.0</td>\n      <td>True</td>\n    </tr>\n    <tr>\n      <th>3</th>\n      <td>46.0</td>\n      <td>8.0</td>\n      <td>6.0</td>\n      <td>8.0</td>\n      <td>141.0</td>\n      <td>769.78</td>\n      <td>0.07</td>\n      <td>14.86</td>\n      <td>51.81</td>\n      <td>11436.73</td>\n      <td>...</td>\n      <td>37</td>\n      <td>2</td>\n      <td>5</td>\n      <td>0</td>\n      <td>16.0</td>\n      <td>28.0</td>\n      <td>89.0</td>\n      <td>52.0</td>\n      <td>15.0</td>\n      <td>True</td>\n    </tr>\n    <tr>\n      <th>4</th>\n      <td>25.0</td>\n      <td>3.0</td>\n      <td>1.0</td>\n      <td>3.0</td>\n      <td>58.0</td>\n      <td>254.75</td>\n      <td>0.11</td>\n      <td>9.35</td>\n      <td>27.25</td>\n      <td>2381.95</td>\n      <td>...</td>\n      <td>21</td>\n      <td>0</td>\n      <td>2</td>\n      <td>0</td>\n      <td>11.0</td>\n      <td>10.0</td>\n      <td>41.0</td>\n      <td>17.0</td>\n      <td>5.0</td>\n      <td>True</td>\n    </tr>\n  </tbody>\n</table>\n<p>5 rows × 22 columns</p>\n</div>"
     },
     "execution_count": 10,
     "metadata": {},
     "output_type": "execute_result"
    }
   ],
   "source": [
    "import pandas as pd\n",
    "import numpy as np\n",
    "kc1Dataset = pd.read_csv('datasets/kc1.csv')\n",
    "kc1Dataset.head()"
   ]
  },
  {
   "cell_type": "code",
   "execution_count": 11,
   "outputs": [
    {
     "data": {
      "text/plain": "    loc  v(g)  ev(g)  iv(g)      n       v     l      d      i         e  ...  \\\n0   1.1   1.4    1.4    1.4    1.3    1.30  1.30   1.30   1.30      1.30  ...   \n1   1.0   1.0    1.0    1.0    1.0    1.00  1.00   1.00   1.00      1.00  ...   \n2  83.0  11.0    1.0   11.0  171.0  927.89  0.04  23.04  40.27  21378.61  ...   \n3  46.0   8.0    6.0    8.0  141.0  769.78  0.07  14.86  51.81  11436.73  ...   \n4  25.0   3.0    1.0    3.0   58.0  254.75  0.11   9.35  27.25   2381.95  ...   \n\n   lOCode  lOComment  lOBlank  lOCodeAndComment  uniq_Op  uniq_Opnd  total_Op  \\\n0       2          2        2                 2      1.2        1.2       1.2   \n1       1          1        1                 1      1.0        1.0       1.0   \n2      65         10        6                 0     18.0       25.0     107.0   \n3      37          2        5                 0     16.0       28.0      89.0   \n4      21          0        2                 0     11.0       10.0      41.0   \n\n   total_Opnd  branchCount  problems  \n0         1.2          1.4         0  \n1         1.0          1.0         1  \n2        64.0         21.0         1  \n3        52.0         15.0         1  \n4        17.0          5.0         1  \n\n[5 rows x 22 columns]",
      "text/html": "<div>\n<style scoped>\n    .dataframe tbody tr th:only-of-type {\n        vertical-align: middle;\n    }\n\n    .dataframe tbody tr th {\n        vertical-align: top;\n    }\n\n    .dataframe thead th {\n        text-align: right;\n    }\n</style>\n<table border=\"1\" class=\"dataframe\">\n  <thead>\n    <tr style=\"text-align: right;\">\n      <th></th>\n      <th>loc</th>\n      <th>v(g)</th>\n      <th>ev(g)</th>\n      <th>iv(g)</th>\n      <th>n</th>\n      <th>v</th>\n      <th>l</th>\n      <th>d</th>\n      <th>i</th>\n      <th>e</th>\n      <th>...</th>\n      <th>lOCode</th>\n      <th>lOComment</th>\n      <th>lOBlank</th>\n      <th>lOCodeAndComment</th>\n      <th>uniq_Op</th>\n      <th>uniq_Opnd</th>\n      <th>total_Op</th>\n      <th>total_Opnd</th>\n      <th>branchCount</th>\n      <th>problems</th>\n    </tr>\n  </thead>\n  <tbody>\n    <tr>\n      <th>0</th>\n      <td>1.1</td>\n      <td>1.4</td>\n      <td>1.4</td>\n      <td>1.4</td>\n      <td>1.3</td>\n      <td>1.30</td>\n      <td>1.30</td>\n      <td>1.30</td>\n      <td>1.30</td>\n      <td>1.30</td>\n      <td>...</td>\n      <td>2</td>\n      <td>2</td>\n      <td>2</td>\n      <td>2</td>\n      <td>1.2</td>\n      <td>1.2</td>\n      <td>1.2</td>\n      <td>1.2</td>\n      <td>1.4</td>\n      <td>0</td>\n    </tr>\n    <tr>\n      <th>1</th>\n      <td>1.0</td>\n      <td>1.0</td>\n      <td>1.0</td>\n      <td>1.0</td>\n      <td>1.0</td>\n      <td>1.00</td>\n      <td>1.00</td>\n      <td>1.00</td>\n      <td>1.00</td>\n      <td>1.00</td>\n      <td>...</td>\n      <td>1</td>\n      <td>1</td>\n      <td>1</td>\n      <td>1</td>\n      <td>1.0</td>\n      <td>1.0</td>\n      <td>1.0</td>\n      <td>1.0</td>\n      <td>1.0</td>\n      <td>1</td>\n    </tr>\n    <tr>\n      <th>2</th>\n      <td>83.0</td>\n      <td>11.0</td>\n      <td>1.0</td>\n      <td>11.0</td>\n      <td>171.0</td>\n      <td>927.89</td>\n      <td>0.04</td>\n      <td>23.04</td>\n      <td>40.27</td>\n      <td>21378.61</td>\n      <td>...</td>\n      <td>65</td>\n      <td>10</td>\n      <td>6</td>\n      <td>0</td>\n      <td>18.0</td>\n      <td>25.0</td>\n      <td>107.0</td>\n      <td>64.0</td>\n      <td>21.0</td>\n      <td>1</td>\n    </tr>\n    <tr>\n      <th>3</th>\n      <td>46.0</td>\n      <td>8.0</td>\n      <td>6.0</td>\n      <td>8.0</td>\n      <td>141.0</td>\n      <td>769.78</td>\n      <td>0.07</td>\n      <td>14.86</td>\n      <td>51.81</td>\n      <td>11436.73</td>\n      <td>...</td>\n      <td>37</td>\n      <td>2</td>\n      <td>5</td>\n      <td>0</td>\n      <td>16.0</td>\n      <td>28.0</td>\n      <td>89.0</td>\n      <td>52.0</td>\n      <td>15.0</td>\n      <td>1</td>\n    </tr>\n    <tr>\n      <th>4</th>\n      <td>25.0</td>\n      <td>3.0</td>\n      <td>1.0</td>\n      <td>3.0</td>\n      <td>58.0</td>\n      <td>254.75</td>\n      <td>0.11</td>\n      <td>9.35</td>\n      <td>27.25</td>\n      <td>2381.95</td>\n      <td>...</td>\n      <td>21</td>\n      <td>0</td>\n      <td>2</td>\n      <td>0</td>\n      <td>11.0</td>\n      <td>10.0</td>\n      <td>41.0</td>\n      <td>17.0</td>\n      <td>5.0</td>\n      <td>1</td>\n    </tr>\n  </tbody>\n</table>\n<p>5 rows × 22 columns</p>\n</div>"
     },
     "execution_count": 11,
     "metadata": {},
     "output_type": "execute_result"
    }
   ],
   "source": [
    "# tratando os dados\n",
    "kc1Dataset['problems'] = kc1Dataset['problems'].astype(int)\n",
    "kc1Dataset.head()"
   ],
   "metadata": {
    "collapsed": false,
    "pycharm": {
     "name": "#%%\n"
    }
   }
  },
  {
   "cell_type": "code",
   "execution_count": 12,
   "outputs": [
    {
     "name": "stdout",
     "output_type": "stream",
     "text": [
      "Treinaremos com 1265 elementos e testaremos com 844 elementos\n"
     ]
    }
   ],
   "source": [
    "from sklearn.neighbors import KNeighborsClassifier\n",
    "from sklearn.model_selection import train_test_split\n",
    "from sklearn.metrics import accuracy_score\n",
    "from sklearn.model_selection  import KFold\n",
    "from sklearn.model_selection import cross_val_score\n",
    "import time\n",
    "\n",
    "variacoes_k = [1,2,3,5,7,9,11,13,15]\n",
    "SEED = 5\n",
    "np.random.seed(SEED)\n",
    "x = kc1Dataset.loc[:, kc1Dataset.columns != 'problems']\n",
    "y = kc1Dataset['problems']\n",
    "\n",
    "# prepara o procedimento cross-validation\n",
    "cv = KFold(n_splits=10, random_state=1, shuffle=True)\n",
    "\n",
    "treino_x, teste_x, treino_y, teste_y = train_test_split(x, y, test_size = 0.4,\n",
    "                                                         stratify = y)\n",
    "print(\"Treinaremos com %d elementos e testaremos com %d elementos\" % (len(treino_x), len(teste_x)))"
   ],
   "metadata": {
    "collapsed": false,
    "pycharm": {
     "name": "#%%\n"
    }
   }
  },
  {
   "cell_type": "code",
   "execution_count": 13,
   "outputs": [
    {
     "name": "stdout",
     "output_type": "stream",
     "text": [
      "A acurácia com k=1 foi 81.28%\n",
      "Tempo de treino: 0.005741 s\n",
      "Tempo de teste: 0.1676 s\n",
      "A acurácia com k=2 foi 84.48%\n",
      "Tempo de treino: 0.0135 s\n",
      "Tempo de teste: 0.2256 s\n",
      "A acurácia com k=3 foi 83.07%\n",
      "Tempo de treino: 0.00724 s\n",
      "Tempo de teste: 0.2332 s\n",
      "A acurácia com k=5 foi 84.37%\n",
      "Tempo de treino: 0.00458 s\n",
      "Tempo de teste: 0.1687 s\n",
      "A acurácia com k=7 foi 84.84%\n",
      "Tempo de treino: 0.007073 s\n",
      "Tempo de teste: 0.191 s\n",
      "A acurácia com k=9 foi 83.89%\n",
      "Tempo de treino: 0.004731 s\n",
      "Tempo de teste: 0.1668 s\n",
      "A acurácia com k=11 foi 83.89%\n",
      "Tempo de treino: 0.007184 s\n",
      "Tempo de teste: 0.1944 s\n",
      "A acurácia com k=13 foi 84.83%\n",
      "Tempo de treino: 0.00552 s\n",
      "Tempo de teste: 0.1488 s\n",
      "A acurácia com k=15 foi 84.60%\n",
      "Tempo de treino: 0.00314 s\n",
      "Tempo de teste: 0.1557 s\n"
     ]
    }
   ],
   "source": [
    "taxasAcertoSemPeso = pd.DataFrame(columns=['k', 'acuracia'])\n",
    "for k in variacoes_k:\n",
    "    neigh = KNeighborsClassifier(n_neighbors=k, weights='uniform', metric='euclidean')\n",
    "\n",
    "    inicioTreino = time.time()\n",
    "    neigh.fit(treino_x, treino_y)\n",
    "    fimTreino = time.time()\n",
    "    tempoTreino = fimTreino - inicioTreino\n",
    "\n",
    "    inicioTeste = time.time()\n",
    "    previsoes = neigh.predict(teste_x)\n",
    "    fimTeste = time.time()\n",
    "    tempoTeste = fimTeste - inicioTeste\n",
    "\n",
    "    #calculando a acuracia\n",
    "    acuracia = np.mean(cross_val_score(neigh, teste_x, teste_y, cv=cv))\n",
    "    print(f\"A acurácia com k={k} foi %.2f%%\" % (acuracia * 100))\n",
    "    print(\"Tempo de treino: %.4g s\" % tempoTreino)\n",
    "    print(\"Tempo de teste: %.4g s\" % tempoTeste)\n",
    "    taxasAcertoSemPeso.loc[k] = [k, acuracia]"
   ],
   "metadata": {
    "collapsed": false,
    "pycharm": {
     "name": "#%%\n"
    }
   }
  },
  {
   "cell_type": "code",
   "execution_count": 14,
   "outputs": [
    {
     "name": "stdout",
     "output_type": "stream",
     "text": [
      "       k  acuracia\n",
      "1    1.0  0.812773\n",
      "2    2.0  0.844790\n",
      "3    3.0  0.830658\n",
      "5    5.0  0.843683\n",
      "7    7.0  0.848375\n",
      "9    9.0  0.838908\n",
      "11  11.0  0.838880\n",
      "13  13.0  0.848347\n",
      "15  15.0  0.846008\n"
     ]
    },
    {
     "data": {
      "text/plain": "Text(0, 0.5, 'Acurácia')"
     },
     "execution_count": 14,
     "metadata": {},
     "output_type": "execute_result"
    },
    {
     "data": {
      "text/plain": "<Figure size 432x288 with 1 Axes>",
      "image/png": "[encoded data removed]"
     },
     "metadata": {
      "needs_background": "light"
     },
     "output_type": "display_data"
    }
   ],
   "source": [
    "import matplotlib.pyplot as plt\n",
    "\n",
    "print(taxasAcertoSemPeso)\n",
    "plt.plot(taxasAcertoSemPeso['k'],taxasAcertoSemPeso['acuracia'])\n",
    "plt.title(\"Acurácia KNN sem peso\")\n",
    "plt.grid(True)\n",
    "plt.xlabel(\"Valor de K\")\n",
    "plt.ylabel(\"Acurácia\")"
   ],
   "metadata": {
    "collapsed": false,
    "pycharm": {
     "name": "#%%\n"
    }
   }
  },
  {
   "cell_type": "code",
   "execution_count": 15,
   "outputs": [
    {
     "name": "stdout",
     "output_type": "stream",
     "text": [
      "A acurácia com k=1 foi 81.28%\n",
      "Tempo de treino: 0.005396 s\n",
      "Tempo de teste: 0.04571 s\n",
      "A acurácia com k=2 foi 81.75%\n",
      "Tempo de treino: 0.01976 s\n",
      "Tempo de teste: 0.0932 s\n",
      "A acurácia com k=3 foi 82.82%\n",
      "Tempo de treino: 0.007041 s\n",
      "Tempo de teste: 0.07789 s\n",
      "A acurácia com k=5 foi 83.30%\n",
      "Tempo de treino: 0.007253 s\n",
      "Tempo de teste: 0.1339 s\n",
      "A acurácia com k=7 foi 83.65%\n",
      "Tempo de treino: 0.007105 s\n",
      "Tempo de teste: 0.08082 s\n",
      "A acurácia com k=9 foi 83.30%\n",
      "Tempo de treino: 0.007743 s\n",
      "Tempo de teste: 0.1215 s\n",
      "A acurácia com k=11 foi 83.18%\n",
      "Tempo de treino: 0.007469 s\n",
      "Tempo de teste: 0.1136 s\n",
      "A acurácia com k=13 foi 83.06%\n",
      "Tempo de treino: 0.005207 s\n",
      "Tempo de teste: 0.1673 s\n",
      "A acurácia com k=15 foi 83.77%\n",
      "Tempo de treino: 0.01466 s\n",
      "Tempo de teste: 0.1907 s\n"
     ]
    }
   ],
   "source": [
    "taxasAcertoComPeso = pd.DataFrame(columns=['k', 'acuracia'])\n",
    "for k in variacoes_k:\n",
    "    neigh = KNeighborsClassifier(n_neighbors=k, weights='distance', metric='euclidean')\n",
    "    inicioTreino = time.time()\n",
    "    neigh.fit(treino_x, treino_y)\n",
    "    fimTreino = time.time()\n",
    "    tempoTreino = fimTreino - inicioTreino\n",
    "\n",
    "    inicioTeste = time.time()\n",
    "    previsoes = neigh.predict(teste_x)\n",
    "    fimTeste = time.time()\n",
    "    tempoTeste = fimTeste - inicioTeste\n",
    "\n",
    "    #calculando a acuracia\n",
    "    acuracia = np.mean(cross_val_score(neigh, teste_x, teste_y, cv=cv))\n",
    "    print(f\"A acurácia com k={k} foi %.2f%%\" % (acuracia * 100))\n",
    "    print(\"Tempo de treino: %.4g s\" % tempoTreino)\n",
    "    print(\"Tempo de teste: %.4g s\" % tempoTeste)\n",
    "    taxasAcertoComPeso.loc[k] = [k, acuracia]"
   ],
   "metadata": {
    "collapsed": false,
    "pycharm": {
     "name": "#%%\n"
    }
   }
  },
  {
   "cell_type": "code",
   "execution_count": 16,
   "outputs": [
    {
     "name": "stdout",
     "output_type": "stream",
     "text": [
      "       k  acuracia\n",
      "1    1.0  0.812773\n",
      "2    2.0  0.817507\n",
      "3    3.0  0.828249\n",
      "5    5.0  0.832955\n",
      "7    7.0  0.836527\n",
      "9    9.0  0.832955\n",
      "11  11.0  0.831765\n",
      "13  13.0  0.830588\n",
      "15  15.0  0.837689\n"
     ]
    },
    {
     "data": {
      "text/plain": "Text(0, 0.5, 'Acurácia')"
     },
     "execution_count": 16,
     "metadata": {},
     "output_type": "execute_result"
    },
    {
     "data": {
      "text/plain": "<Figure size 432x288 with 1 Axes>",
      "image/png": "[encoded data removed]"
     },
     "metadata": {
      "needs_background": "light"
     },
     "output_type": "display_data"
    }
   ],
   "source": [
    "import matplotlib.pyplot as plt\n",
    "\n",
    "print(taxasAcertoComPeso)\n",
    "plt.plot(taxasAcertoComPeso['k'],taxasAcertoComPeso['acuracia'])\n",
    "plt.title(\"Acurácia KNN com peso\")\n",
    "plt.grid(True)\n",
    "plt.xlabel(\"Valor de K\")\n",
    "plt.ylabel(\"Acurácia\")"
   ],
   "metadata": {
    "collapsed": false,
    "pycharm": {
     "name": "#%%\n"
    }
   }
  },
  {
   "cell_type": "markdown",
   "source": [
    "# Dataset **CM1/Software defect prediction**\n",
    "\n",
    "Title/Topic: CM1/Software defect prediction\n",
    "\n",
    "Donor: Tim Menzies (tim@barmag.net)\n",
    "\n",
    "Date: December 2, 2004\n",
    "\n",
    "Sources:\n",
    "\n",
    "Creators:\n",
    "NASA, then the NASA Metrics Data Program,\n",
    "http://mdp.ivv.nasa.gov."
   ],
   "metadata": {
    "collapsed": false
   }
  },
  {
   "cell_type": "code",
   "execution_count": 17,
   "outputs": [
    {
     "data": {
      "text/plain": "    loc  v(g)  ev(g)  iv(g)     n       v     l      d      i        e  ...  \\\n0   1.1   1.4    1.4    1.4   1.3    1.30  1.30   1.30   1.30     1.30  ...   \n1   1.0   1.0    1.0    1.0   1.0    1.00  1.00   1.00   1.00     1.00  ...   \n2  24.0   5.0    1.0    3.0  63.0  309.13  0.11   9.50  32.54  2936.77  ...   \n3  20.0   4.0    4.0    2.0  47.0  215.49  0.06  16.00  13.47  3447.89  ...   \n4  24.0   6.0    6.0    2.0  72.0  346.13  0.06  17.33  19.97  5999.58  ...   \n\n   lOCode  lOComment  lOBlank  lOCodeAndComment  uniq_Op  uniq_Opnd  total_Op  \\\n0       2          2        2                 2      1.2        1.2       1.2   \n1       1          1        1                 1      1.0        1.0       1.0   \n2       1          0        6                 0     15.0       15.0      44.0   \n3       0          0        3                 0     16.0        8.0      31.0   \n4       0          0        3                 0     16.0       12.0      46.0   \n\n   total_Opnd  branchCount  defects  \n0         1.2          1.4    False  \n1         1.0          1.0     True  \n2        19.0          9.0    False  \n3        16.0          7.0    False  \n4        26.0         11.0    False  \n\n[5 rows x 22 columns]",
      "text/html": "<div>\n<style scoped>\n    .dataframe tbody tr th:only-of-type {\n        vertical-align: middle;\n    }\n\n    .dataframe tbody tr th {\n        vertical-align: top;\n    }\n\n    .dataframe thead th {\n        text-align: right;\n    }\n</style>\n<table border=\"1\" class=\"dataframe\">\n  <thead>\n    <tr style=\"text-align: right;\">\n      <th></th>\n      <th>loc</th>\n      <th>v(g)</th>\n      <th>ev(g)</th>\n      <th>iv(g)</th>\n      <th>n</th>\n      <th>v</th>\n      <th>l</th>\n      <th>d</th>\n      <th>i</th>\n      <th>e</th>\n      <th>...</th>\n      <th>lOCode</th>\n      <th>lOComment</th>\n      <th>lOBlank</th>\n      <th>lOCodeAndComment</th>\n      <th>uniq_Op</th>\n      <th>uniq_Opnd</th>\n      <th>total_Op</th>\n      <th>total_Opnd</th>\n      <th>branchCount</th>\n      <th>defects</th>\n    </tr>\n  </thead>\n  <tbody>\n    <tr>\n      <th>0</th>\n      <td>1.1</td>\n      <td>1.4</td>\n      <td>1.4</td>\n      <td>1.4</td>\n      <td>1.3</td>\n      <td>1.30</td>\n      <td>1.30</td>\n      <td>1.30</td>\n      <td>1.30</td>\n      <td>1.30</td>\n      <td>...</td>\n      <td>2</td>\n      <td>2</td>\n      <td>2</td>\n      <td>2</td>\n      <td>1.2</td>\n      <td>1.2</td>\n      <td>1.2</td>\n      <td>1.2</td>\n      <td>1.4</td>\n      <td>False</td>\n    </tr>\n    <tr>\n      <th>1</th>\n      <td>1.0</td>\n      <td>1.0</td>\n      <td>1.0</td>\n      <td>1.0</td>\n      <td>1.0</td>\n      <td>1.00</td>\n      <td>1.00</td>\n      <td>1.00</td>\n      <td>1.00</td>\n      <td>1.00</td>\n      <td>...</td>\n      <td>1</td>\n      <td>1</td>\n      <td>1</td>\n      <td>1</td>\n      <td>1.0</td>\n      <td>1.0</td>\n      <td>1.0</td>\n      <td>1.0</td>\n      <td>1.0</td>\n      <td>True</td>\n    </tr>\n    <tr>\n      <th>2</th>\n      <td>24.0</td>\n      <td>5.0</td>\n      <td>1.0</td>\n      <td>3.0</td>\n      <td>63.0</td>\n      <td>309.13</td>\n      <td>0.11</td>\n      <td>9.50</td>\n      <td>32.54</td>\n      <td>2936.77</td>\n      <td>...</td>\n      <td>1</td>\n      <td>0</td>\n      <td>6</td>\n      <td>0</td>\n      <td>15.0</td>\n      <td>15.0</td>\n      <td>44.0</td>\n      <td>19.0</td>\n      <td>9.0</td>\n      <td>False</td>\n    </tr>\n    <tr>\n      <th>3</th>\n      <td>20.0</td>\n      <td>4.0</td>\n      <td>4.0</td>\n      <td>2.0</td>\n      <td>47.0</td>\n      <td>215.49</td>\n      <td>0.06</td>\n      <td>16.00</td>\n      <td>13.47</td>\n      <td>3447.89</td>\n      <td>...</td>\n      <td>0</td>\n      <td>0</td>\n      <td>3</td>\n      <td>0</td>\n      <td>16.0</td>\n      <td>8.0</td>\n      <td>31.0</td>\n      <td>16.0</td>\n      <td>7.0</td>\n      <td>False</td>\n    </tr>\n    <tr>\n      <th>4</th>\n      <td>24.0</td>\n      <td>6.0</td>\n      <td>6.0</td>\n      <td>2.0</td>\n      <td>72.0</td>\n      <td>346.13</td>\n      <td>0.06</td>\n      <td>17.33</td>\n      <td>19.97</td>\n      <td>5999.58</td>\n      <td>...</td>\n      <td>0</td>\n      <td>0</td>\n      <td>3</td>\n      <td>0</td>\n      <td>16.0</td>\n      <td>12.0</td>\n      <td>46.0</td>\n      <td>26.0</td>\n      <td>11.0</td>\n      <td>False</td>\n    </tr>\n  </tbody>\n</table>\n<p>5 rows × 22 columns</p>\n</div>"
     },
     "execution_count": 17,
     "metadata": {},
     "output_type": "execute_result"
    }
   ],
   "source": [
    "cm1Dataset = pd.read_csv('datasets/cm1.csv')\n",
    "cm1Dataset.head()"
   ],
   "metadata": {
    "collapsed": false,
    "pycharm": {
     "name": "#%%\n"
    }
   }
  },
  {
   "cell_type": "code",
   "execution_count": 18,
   "outputs": [
    {
     "data": {
      "text/plain": "    loc  v(g)  ev(g)  iv(g)     n       v     l      d      i        e  ...  \\\n0   1.1   1.4    1.4    1.4   1.3    1.30  1.30   1.30   1.30     1.30  ...   \n1   1.0   1.0    1.0    1.0   1.0    1.00  1.00   1.00   1.00     1.00  ...   \n2  24.0   5.0    1.0    3.0  63.0  309.13  0.11   9.50  32.54  2936.77  ...   \n3  20.0   4.0    4.0    2.0  47.0  215.49  0.06  16.00  13.47  3447.89  ...   \n4  24.0   6.0    6.0    2.0  72.0  346.13  0.06  17.33  19.97  5999.58  ...   \n\n   lOCode  lOComment  lOBlank  lOCodeAndComment  uniq_Op  uniq_Opnd  total_Op  \\\n0       2          2        2                 2      1.2        1.2       1.2   \n1       1          1        1                 1      1.0        1.0       1.0   \n2       1          0        6                 0     15.0       15.0      44.0   \n3       0          0        3                 0     16.0        8.0      31.0   \n4       0          0        3                 0     16.0       12.0      46.0   \n\n   total_Opnd  branchCount  defects  \n0         1.2          1.4        0  \n1         1.0          1.0        1  \n2        19.0          9.0        0  \n3        16.0          7.0        0  \n4        26.0         11.0        0  \n\n[5 rows x 22 columns]",
      "text/html": "<div>\n<style scoped>\n    .dataframe tbody tr th:only-of-type {\n        vertical-align: middle;\n    }\n\n    .dataframe tbody tr th {\n        vertical-align: top;\n    }\n\n    .dataframe thead th {\n        text-align: right;\n    }\n</style>\n<table border=\"1\" class=\"dataframe\">\n  <thead>\n    <tr style=\"text-align: right;\">\n      <th></th>\n      <th>loc</th>\n      <th>v(g)</th>\n      <th>ev(g)</th>\n      <th>iv(g)</th>\n      <th>n</th>\n      <th>v</th>\n      <th>l</th>\n      <th>d</th>\n      <th>i</th>\n      <th>e</th>\n      <th>...</th>\n      <th>lOCode</th>\n      <th>lOComment</th>\n      <th>lOBlank</th>\n      <th>lOCodeAndComment</th>\n      <th>uniq_Op</th>\n      <th>uniq_Opnd</th>\n      <th>total_Op</th>\n      <th>total_Opnd</th>\n      <th>branchCount</th>\n      <th>defects</th>\n    </tr>\n  </thead>\n  <tbody>\n    <tr>\n      <th>0</th>\n      <td>1.1</td>\n      <td>1.4</td>\n      <td>1.4</td>\n      <td>1.4</td>\n      <td>1.3</td>\n      <td>1.30</td>\n      <td>1.30</td>\n      <td>1.30</td>\n      <td>1.30</td>\n      <td>1.30</td>\n      <td>...</td>\n      <td>2</td>\n      <td>2</td>\n      <td>2</td>\n      <td>2</td>\n      <td>1.2</td>\n      <td>1.2</td>\n      <td>1.2</td>\n      <td>1.2</td>\n      <td>1.4</td>\n      <td>0</td>\n    </tr>\n    <tr>\n      <th>1</th>\n      <td>1.0</td>\n      <td>1.0</td>\n      <td>1.0</td>\n      <td>1.0</td>\n      <td>1.0</td>\n      <td>1.00</td>\n      <td>1.00</td>\n      <td>1.00</td>\n      <td>1.00</td>\n      <td>1.00</td>\n      <td>...</td>\n      <td>1</td>\n      <td>1</td>\n      <td>1</td>\n      <td>1</td>\n      <td>1.0</td>\n      <td>1.0</td>\n      <td>1.0</td>\n      <td>1.0</td>\n      <td>1.0</td>\n      <td>1</td>\n    </tr>\n    <tr>\n      <th>2</th>\n      <td>24.0</td>\n      <td>5.0</td>\n      <td>1.0</td>\n      <td>3.0</td>\n      <td>63.0</td>\n      <td>309.13</td>\n      <td>0.11</td>\n      <td>9.50</td>\n      <td>32.54</td>\n      <td>2936.77</td>\n      <td>...</td>\n      <td>1</td>\n      <td>0</td>\n      <td>6</td>\n      <td>0</td>\n      <td>15.0</td>\n      <td>15.0</td>\n      <td>44.0</td>\n      <td>19.0</td>\n      <td>9.0</td>\n      <td>0</td>\n    </tr>\n    <tr>\n      <th>3</th>\n      <td>20.0</td>\n      <td>4.0</td>\n      <td>4.0</td>\n      <td>2.0</td>\n      <td>47.0</td>\n      <td>215.49</td>\n      <td>0.06</td>\n      <td>16.00</td>\n      <td>13.47</td>\n      <td>3447.89</td>\n      <td>...</td>\n      <td>0</td>\n      <td>0</td>\n      <td>3</td>\n      <td>0</td>\n      <td>16.0</td>\n      <td>8.0</td>\n      <td>31.0</td>\n      <td>16.0</td>\n      <td>7.0</td>\n      <td>0</td>\n    </tr>\n    <tr>\n      <th>4</th>\n      <td>24.0</td>\n      <td>6.0</td>\n      <td>6.0</td>\n      <td>2.0</td>\n      <td>72.0</td>\n      <td>346.13</td>\n      <td>0.06</td>\n      <td>17.33</td>\n      <td>19.97</td>\n      <td>5999.58</td>\n      <td>...</td>\n      <td>0</td>\n      <td>0</td>\n      <td>3</td>\n      <td>0</td>\n      <td>16.0</td>\n      <td>12.0</td>\n      <td>46.0</td>\n      <td>26.0</td>\n      <td>11.0</td>\n      <td>0</td>\n    </tr>\n  </tbody>\n</table>\n<p>5 rows × 22 columns</p>\n</div>"
     },
     "execution_count": 18,
     "metadata": {},
     "output_type": "execute_result"
    }
   ],
   "source": [
    "# tratando os dados\n",
    "cm1Dataset['defects'] = cm1Dataset['defects'].astype(int)\n",
    "cm1Dataset.head()"
   ],
   "metadata": {
    "collapsed": false,
    "pycharm": {
     "name": "#%%\n"
    }
   }
  },
  {
   "cell_type": "code",
   "execution_count": 19,
   "outputs": [
    {
     "name": "stdout",
     "output_type": "stream",
     "text": [
      "Treinaremos com 298 elementos e testaremos com 200 elementos\n"
     ]
    }
   ],
   "source": [
    "variacoes_k = [1,2,3,5,7,9,11,13,15]\n",
    "SEED = 5\n",
    "np.random.seed(SEED)\n",
    "x = cm1Dataset.loc[:, cm1Dataset.columns != 'defects']\n",
    "y = cm1Dataset['defects']\n",
    "\n",
    "# prepara o procedimento cross-validation\n",
    "cv = KFold(n_splits=10, random_state=1, shuffle=True)\n",
    "\n",
    "treino_x, teste_x, treino_y, teste_y = train_test_split(x, y, test_size = 0.4,\n",
    "                                                         stratify = y)\n",
    "print(\"Treinaremos com %d elementos e testaremos com %d elementos\" % (len(treino_x), len(teste_x)))"
   ],
   "metadata": {
    "collapsed": false,
    "pycharm": {
     "name": "#%%\n"
    }
   }
  },
  {
   "cell_type": "code",
   "execution_count": 20,
   "outputs": [
    {
     "name": "stdout",
     "output_type": "stream",
     "text": [
      "A acurácia com k=1 foi 80.50%\n",
      "Tempo de treino: 0.004389 s\n",
      "Tempo de teste: 0.03766 s\n",
      "A acurácia com k=2 foi 88.00%\n",
      "Tempo de treino: 0.003195 s\n",
      "Tempo de teste: 0.03408 s\n",
      "A acurácia com k=3 foi 86.50%\n",
      "Tempo de treino: 0.004383 s\n",
      "Tempo de teste: 0.02367 s\n",
      "A acurácia com k=5 foi 89.50%\n",
      "Tempo de treino: 0.005559 s\n",
      "Tempo de teste: 0.03131 s\n",
      "A acurácia com k=7 foi 90.00%\n",
      "Tempo de treino: 0.003358 s\n",
      "Tempo de teste: 0.03258 s\n",
      "A acurácia com k=9 foi 90.00%\n",
      "Tempo de treino: 0.002953 s\n",
      "Tempo de teste: 0.0614 s\n",
      "A acurácia com k=11 foi 90.00%\n",
      "Tempo de treino: 0.004467 s\n",
      "Tempo de teste: 0.03177 s\n",
      "A acurácia com k=13 foi 90.00%\n",
      "Tempo de treino: 0.004087 s\n",
      "Tempo de teste: 0.0324 s\n",
      "A acurácia com k=15 foi 90.00%\n",
      "Tempo de treino: 0.00305 s\n",
      "Tempo de teste: 0.03742 s\n"
     ]
    }
   ],
   "source": [
    "taxasAcertoSemPeso = pd.DataFrame(columns=['k', 'acuracia'])\n",
    "for k in variacoes_k:\n",
    "    neigh = KNeighborsClassifier(n_neighbors=k, weights='uniform', metric='euclidean')\n",
    "\n",
    "    inicioTreino = time.time()\n",
    "    neigh.fit(treino_x, treino_y)\n",
    "    fimTreino = time.time()\n",
    "    tempoTreino = fimTreino - inicioTreino\n",
    "\n",
    "    inicioTeste = time.time()\n",
    "    previsoes = neigh.predict(teste_x)\n",
    "    fimTeste = time.time()\n",
    "    tempoTeste = fimTeste - inicioTeste\n",
    "\n",
    "    #calculando a acuracia\n",
    "    acuracia = np.mean(cross_val_score(neigh, teste_x, teste_y, cv=cv))\n",
    "    print(f\"A acurácia com k={k} foi %.2f%%\" % (acuracia * 100))\n",
    "    print(\"Tempo de treino: %.4g s\" % tempoTreino)\n",
    "    print(\"Tempo de teste: %.4g s\" % tempoTeste)\n",
    "    taxasAcertoSemPeso.loc[k] = [k, acuracia]"
   ],
   "metadata": {
    "collapsed": false,
    "pycharm": {
     "name": "#%%\n"
    }
   }
  },
  {
   "cell_type": "code",
   "execution_count": 21,
   "outputs": [
    {
     "name": "stdout",
     "output_type": "stream",
     "text": [
      "       k  acuracia\n",
      "1    1.0     0.805\n",
      "2    2.0     0.880\n",
      "3    3.0     0.865\n",
      "5    5.0     0.895\n",
      "7    7.0     0.900\n",
      "9    9.0     0.900\n",
      "11  11.0     0.900\n",
      "13  13.0     0.900\n",
      "15  15.0     0.900\n"
     ]
    },
    {
     "data": {
      "text/plain": "Text(0, 0.5, 'Acurácia')"
     },
     "execution_count": 21,
     "metadata": {},
     "output_type": "execute_result"
    },
    {
     "data": {
      "text/plain": "<Figure size 432x288 with 1 Axes>",
      "image/png": "[encoded data removed]"
     },
     "metadata": {
      "needs_background": "light"
     },
     "output_type": "display_data"
    }
   ],
   "source": [
    "print(taxasAcertoSemPeso)\n",
    "plt.plot(taxasAcertoSemPeso['k'],taxasAcertoSemPeso['acuracia'])\n",
    "plt.title(\"Acurácia KNN sem peso\")\n",
    "plt.grid(True)\n",
    "plt.xlabel(\"Valor de K\")\n",
    "plt.ylabel(\"Acurácia\")"
   ],
   "metadata": {
    "collapsed": false,
    "pycharm": {
     "name": "#%%\n"
    }
   }
  },
  {
   "cell_type": "code",
   "execution_count": 22,
   "outputs": [
    {
     "name": "stdout",
     "output_type": "stream",
     "text": [
      "A acurácia com k=1 foi 80.50%\n",
      "Tempo de treino: 0.003933 s\n",
      "Tempo de teste: 0.006398 s\n",
      "A acurácia com k=2 foi 81.00%\n",
      "Tempo de treino: 0.00379 s\n",
      "Tempo de teste: 0.00615 s\n",
      "A acurácia com k=3 foi 84.00%\n",
      "Tempo de treino: 0.008873 s\n",
      "Tempo de teste: 0.01575 s\n",
      "A acurácia com k=5 foi 85.50%\n",
      "Tempo de treino: 0.004305 s\n",
      "Tempo de teste: 0.01992 s\n",
      "A acurácia com k=7 foi 87.00%\n",
      "Tempo de treino: 0.003695 s\n",
      "Tempo de teste: 0.01196 s\n",
      "A acurácia com k=9 foi 87.00%\n",
      "Tempo de treino: 0.002833 s\n",
      "Tempo de teste: 0.008223 s\n",
      "A acurácia com k=11 foi 87.50%\n",
      "Tempo de treino: 0.003386 s\n",
      "Tempo de teste: 0.008721 s\n",
      "A acurácia com k=13 foi 88.50%\n",
      "Tempo de treino: 0.00355 s\n",
      "Tempo de teste: 0.007542 s\n",
      "A acurácia com k=15 foi 88.50%\n",
      "Tempo de treino: 0.002838 s\n",
      "Tempo de teste: 0.008715 s\n"
     ]
    }
   ],
   "source": [
    "taxasAcertoComPeso = pd.DataFrame(columns=['k', 'acuracia'])\n",
    "for k in variacoes_k:\n",
    "    neigh = KNeighborsClassifier(n_neighbors=k, weights='distance', metric='euclidean')\n",
    "    inicioTreino = time.time()\n",
    "    neigh.fit(treino_x, treino_y)\n",
    "    fimTreino = time.time()\n",
    "    tempoTreino = fimTreino - inicioTreino\n",
    "\n",
    "    inicioTeste = time.time()\n",
    "    previsoes = neigh.predict(teste_x)\n",
    "    fimTeste = time.time()\n",
    "    tempoTeste = fimTeste - inicioTeste\n",
    "\n",
    "    #calculando a acuracia\n",
    "    acuracia = np.mean(cross_val_score(neigh, teste_x, teste_y, cv=cv))\n",
    "    print(f\"A acurácia com k={k} foi %.2f%%\" % (acuracia * 100))\n",
    "    print(\"Tempo de treino: %.4g s\" % tempoTreino)\n",
    "    print(\"Tempo de teste: %.4g s\" % tempoTeste)\n",
    "    taxasAcertoComPeso.loc[k] = [k, acuracia]"
   ],
   "metadata": {
    "collapsed": false,
    "pycharm": {
     "name": "#%%\n"
    }
   }
  },
  {
   "cell_type": "code",
   "execution_count": 23,
   "outputs": [
    {
     "name": "stdout",
     "output_type": "stream",
     "text": [
      "       k  acuracia\n",
      "1    1.0     0.805\n",
      "2    2.0     0.810\n",
      "3    3.0     0.840\n",
      "5    5.0     0.855\n",
      "7    7.0     0.870\n",
      "9    9.0     0.870\n",
      "11  11.0     0.875\n",
      "13  13.0     0.885\n",
      "15  15.0     0.885\n"
     ]
    },
    {
     "data": {
      "text/plain": "Text(0, 0.5, 'Acurácia')"
     },
     "execution_count": 23,
     "metadata": {},
     "output_type": "execute_result"
    },
    {
     "data": {
      "text/plain": "<Figure size 432x288 with 1 Axes>",
      "image/png": "[encoded data removed]"
     },
     "metadata": {
      "needs_background": "light"
     },
     "output_type": "display_data"
    }
   ],
   "source": [
    "print(taxasAcertoComPeso)\n",
    "plt.plot(taxasAcertoComPeso['k'],taxasAcertoComPeso['acuracia'])\n",
    "plt.title(\"Acurácia KNN com peso\")\n",
    "plt.grid(True)\n",
    "plt.xlabel(\"Valor de K\")\n",
    "plt.ylabel(\"Acurácia\")"
   ],
   "metadata": {
    "collapsed": false,
    "pycharm": {
     "name": "#%%\n"
    }
   }
  }
 ],
 "metadata": {
  "kernelspec": {
   "display_name": "Python 3",
   "language": "python",
   "name": "python3"
  },
  "language_info": {
   "codemirror_mode": {
    "name": "ipython",
    "version": 3
   },
   "file_extension": ".py",
   "mimetype": "text/x-python",
   "name": "python",
   "nbconvert_exporter": "python",
   "pygments_lexer": "ipython3",
   "version": "3.8.6"
  }
 },
 "nbformat": 4,
 "nbformat_minor": 5
}